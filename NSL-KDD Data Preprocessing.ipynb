{
 "cells": [
  {
   "cell_type": "code",
   "execution_count": 1,
   "id": "15a338e8-f37f-4a86-9f39-528461d4b1db",
   "metadata": {},
   "outputs": [],
   "source": [
    "import numpy as np\n",
    "import pandas as pd\n",
    "import matplotlib.pyplot as plt\n",
    "from sklearn.preprocessing import LabelEncoder,OneHotEncoder\n",
    "from sklearn import preprocessing\n",
    "from sklearn.model_selection import train_test_split # Import train_test_split function\n",
    "import warnings\n",
    "warnings.filterwarnings(\"ignore\")\n",
    "import os"
   ]
  },
  {
   "cell_type": "markdown",
   "id": "65727643",
   "metadata": {},
   "source": []
  },
  {
   "cell_type": "code",
   "execution_count": 2,
   "id": "bb0fb63e-2dab-401a-8efd-1c8905328721",
   "metadata": {},
   "outputs": [],
   "source": [
    "from sklearn.preprocessing import StandardScaler\n",
    "from sklearn.ensemble import RandomForestClassifier\n",
    "import seaborn as sns\n",
    "from sklearn.cluster import KMeans\n",
    "from sklearn.utils import shuffle"
   ]
  },
  {
   "cell_type": "code",
   "execution_count": 39,
   "id": "b66948a4-f900-4ace-aecd-5886b12dca2f",
   "metadata": {},
   "outputs": [
    {
     "name": "stdout",
     "output_type": "stream",
     "text": [
      "Requirement already satisfied: imbalanced-learn in c:\\users\\sastr\\anaconda3\\lib\\site-packages (0.11.0)\n",
      "Requirement already satisfied: numpy>=1.17.3 in c:\\users\\sastr\\anaconda3\\lib\\site-packages (from imbalanced-learn) (1.26.4)\n",
      "Requirement already satisfied: scipy>=1.5.0 in c:\\users\\sastr\\anaconda3\\lib\\site-packages (from imbalanced-learn) (1.11.4)\n",
      "Requirement already satisfied: scikit-learn>=1.0.2 in c:\\users\\sastr\\anaconda3\\lib\\site-packages (from imbalanced-learn) (1.2.2)\n",
      "Requirement already satisfied: joblib>=1.1.1 in c:\\users\\sastr\\anaconda3\\lib\\site-packages (from imbalanced-learn) (1.2.0)\n",
      "Requirement already satisfied: threadpoolctl>=2.0.0 in c:\\users\\sastr\\anaconda3\\lib\\site-packages (from imbalanced-learn) (2.2.0)\n"
     ]
    }
   ],
   "source": [
    "!pip install imbalanced-learn"
   ]
  },
  {
   "cell_type": "code",
   "execution_count": 3,
   "id": "ddd25adf-ac0b-4a23-ba1c-76d4c707a7f8",
   "metadata": {},
   "outputs": [],
   "source": [
    "from imblearn.under_sampling import EditedNearestNeighbours\n",
    "from imblearn.over_sampling import SMOTE"
   ]
  },
  {
   "cell_type": "code",
   "execution_count": 4,
   "id": "f2f4cafb-3df3-49fd-b480-0cedceafcdf4",
   "metadata": {},
   "outputs": [],
   "source": [
    "df_train_final = pd.read_csv(r\"C:\\Users\\sastr\\6th sem\\Internship\\NSL_KDD\\kdd_train_clean.csv\")"
   ]
  },
  {
   "cell_type": "code",
   "execution_count": 5,
   "id": "068ab71f-39ee-40f6-a99f-2d7a5046ef26",
   "metadata": {},
   "outputs": [],
   "source": [
    "df_test_final = pd.read_csv(r\"C:\\Users\\sastr\\6th sem\\Internship\\NSL_KDD\\kdd_test_clean.csv\")"
   ]
  },
  {
   "cell_type": "markdown",
   "id": "db0db76e-db53-4f0f-a09c-562110d744c9",
   "metadata": {},
   "source": [
    "## Standardization (Scaling) of features"
   ]
  },
  {
   "cell_type": "code",
   "execution_count": 6,
   "id": "2e692980-44b5-49b5-8b12-1904140984e9",
   "metadata": {},
   "outputs": [],
   "source": [
    "X_train = df_train_final.drop(columns=['labels'])\n",
    "y_train = df_train_final['labels']\n",
    "X_test = df_test_final.drop(columns=['labels'])\n",
    "y_test = df_test_final['labels']"
   ]
  },
  {
   "cell_type": "code",
   "execution_count": 9,
   "id": "5e025aec-bbc2-4adc-b3dc-75c46cd80ded",
   "metadata": {},
   "outputs": [],
   "source": [
    "#X_test['labels']"
   ]
  },
  {
   "cell_type": "code",
   "execution_count": 7,
   "id": "5d01346c-6898-427a-9000-00968c3b2032",
   "metadata": {},
   "outputs": [],
   "source": [
    "scaler = StandardScaler()\n",
    "X_train_scaled = scaler.fit_transform(X_train)\n",
    "X_test_scaled = scaler.transform(X_test)"
   ]
  },
  {
   "cell_type": "code",
   "execution_count": 8,
   "id": "5f9f397e-844d-49a0-9384-e4af35554db3",
   "metadata": {},
   "outputs": [],
   "source": [
    "X_train_scaled = pd.DataFrame(X_train_scaled, columns=X_train.columns)\n",
    "X_test_scaled = pd.DataFrame(X_test_scaled, columns=X_test.columns)"
   ]
  },
  {
   "cell_type": "markdown",
   "id": "3c399cac-670f-4460-a4d6-fef9565bc01e",
   "metadata": {},
   "source": [
    "## Feature Selection"
   ]
  },
  {
   "cell_type": "markdown",
   "id": "61ef9bc4-dcc6-428a-b6c9-1910d2a81c04",
   "metadata": {},
   "source": [
    "### Correlation between features"
   ]
  },
  {
   "cell_type": "code",
   "execution_count": 9,
   "id": "560284af-00c2-46dd-8352-852357833147",
   "metadata": {},
   "outputs": [],
   "source": [
    "corr_matrix = df_train_final.drop(columns=['labels']).corr()\n"
   ]
  },
  {
   "cell_type": "code",
   "execution_count": 10,
   "id": "29529797-e251-43f8-a8a4-2c3aba1f409b",
   "metadata": {},
   "outputs": [
    {
     "name": "stdout",
     "output_type": "stream",
     "text": [
      "num_root - num_compromised : 0.9988334525784719\n",
      "srv_serror_rate - serror_rate : 0.9932892425370462\n",
      "srv_rerror_rate - rerror_rate : 0.9890076529820762\n",
      "dst_host_serror_rate - serror_rate : 0.979373082984311\n",
      "dst_host_serror_rate - srv_serror_rate : 0.9775960119654399\n",
      "dst_host_srv_serror_rate - serror_rate : 0.9811389586179897\n",
      "dst_host_srv_serror_rate - srv_serror_rate : 0.9862517164931046\n",
      "dst_host_srv_serror_rate - dst_host_serror_rate : 0.9850522227996314\n",
      "dst_host_rerror_rate - rerror_rate : 0.9267485035758941\n",
      "dst_host_rerror_rate - srv_rerror_rate : 0.9178223356828635\n",
      "dst_host_srv_rerror_rate - rerror_rate : 0.9644486655034351\n",
      "dst_host_srv_rerror_rate - srv_rerror_rate : 0.9702079974522381\n",
      "dst_host_srv_rerror_rate - dst_host_rerror_rate : 0.9246878915781156\n",
      "flag_5 - serror_rate : 0.9791740914923939\n",
      "flag_5 - srv_serror_rate : 0.982659962260051\n",
      "flag_5 - dst_host_serror_rate : 0.9758441112031959\n",
      "flag_5 - dst_host_srv_serror_rate : 0.9812093528343018\n"
     ]
    }
   ],
   "source": [
    "threshold = 0.9\n",
    "highly_correlated_pairs = []\n",
    "\n",
    "# Iterate through the correlation matrix\n",
    "for i in range(len(corr_matrix.columns)):\n",
    "    for j in range(i):\n",
    "        if abs(corr_matrix.iloc[i, j]) > threshold:\n",
    "            pair = (corr_matrix.columns[i], corr_matrix.columns[j], corr_matrix.iloc[i, j])\n",
    "            highly_correlated_pairs.append(pair)\n",
    "\n",
    "# Print highly correlated pairs\n",
    "for pair in highly_correlated_pairs:\n",
    "    print(f\"{pair[0]} - {pair[1]} : {pair[2]}\")\n"
   ]
  },
  {
   "cell_type": "code",
   "execution_count": 11,
   "id": "c8f4254b-ea90-4a18-9992-68653865770b",
   "metadata": {},
   "outputs": [
    {
     "name": "stdout",
     "output_type": "stream",
     "text": [
      "{'srv_serror_rate', 'flag_5', 'dst_host_srv_serror_rate', 'dst_host_serror_rate', 'num_root', 'srv_rerror_rate', 'dst_host_srv_rerror_rate', 'dst_host_rerror_rate'}\n"
     ]
    }
   ],
   "source": [
    "threshold = 0.9\n",
    "corr_features_to_drop = set()\n",
    "for i in range(len(corr_matrix.columns)):\n",
    "    for j in range(i):\n",
    "        if abs(corr_matrix.iloc[i, j]) > threshold:\n",
    "            corr_features_to_drop.add(corr_matrix.columns[i])\n",
    "\n",
    "print(corr_features_to_drop)"
   ]
  },
  {
   "cell_type": "markdown",
   "id": "b7ed154b-9a64-41ef-81ad-b49296243794",
   "metadata": {},
   "source": [
    "**Dropping the highly correlated columns**"
   ]
  },
  {
   "cell_type": "code",
   "execution_count": 12,
   "id": "5e4b62c5-43ea-41a8-8314-9c16b1a3cfa6",
   "metadata": {},
   "outputs": [],
   "source": [
    "X_train_reduced = X_train_scaled.drop(columns=corr_features_to_drop)\n",
    "X_test_reduced = X_test_scaled.drop(columns=corr_features_to_drop)"
   ]
  },
  {
   "cell_type": "markdown",
   "id": "97d8e095-1d68-4139-9c59-91d5e089fdde",
   "metadata": {},
   "source": [
    "### Highly correlated features with Target variable"
   ]
  },
  {
   "cell_type": "code",
   "execution_count": 14,
   "id": "79b7ace0-148b-452f-8382-48280acdb74e",
   "metadata": {},
   "outputs": [
    {
     "name": "stdout",
     "output_type": "stream",
     "text": [
      "labels                    1.000000\n",
      "dst_host_srv_count        0.624241\n",
      "logged_in                 0.576031\n",
      "flag_9                    0.548643\n",
      "dst_host_same_srv_rate    0.525829\n",
      "                            ...   \n",
      "urgent                    0.003941\n",
      "land                      0.002944\n",
      "is_host_login             0.002334\n",
      "service_62                0.002296\n",
      "num_outbound_cmds              NaN\n",
      "Name: labels, Length: 123, dtype: float64\n"
     ]
    }
   ],
   "source": [
    "corr_with_target = df_train_final.corr()['labels'].abs().sort_values(ascending=False)\n",
    "print(corr_with_target)"
   ]
  },
  {
   "cell_type": "code",
   "execution_count": 15,
   "id": "3d7b6021-46b8-40f3-93e0-3bc5d16d5260",
   "metadata": {},
   "outputs": [
    {
     "data": {
      "image/png": "[encoded data removed]",
      "text/plain": [
       "<Figure size 1000x800 with 1 Axes>"
      ]
     },
     "metadata": {},
     "output_type": "display_data"
    }
   ],
   "source": [
    "plt.figure(figsize=(10, 8))\n",
    "sns.barplot(x=corr_with_target.values[:10], y=corr_with_target.index[:10], orient='h')\n",
    "plt.xlabel('Correlation with Target Variable')\n",
    "plt.ylabel('Features')\n",
    "plt.title('Correlation of Features with Target Variable')\n",
    "plt.show()\n"
   ]
  },
  {
   "cell_type": "markdown",
   "id": "c79bc916-08e0-45a7-b2da-073e7e713b19",
   "metadata": {},
   "source": [
    "## Feature Importance using Random Forest"
   ]
  },
  {
   "cell_type": "code",
   "execution_count": 16,
   "id": "86551715-d7d0-48cf-97ce-595dc41e5a48",
   "metadata": {},
   "outputs": [
    {
     "data": {
      "text/html": [
       "<style>#sk-container-id-1 {color: black;background-color: white;}#sk-container-id-1 pre{padding: 0;}#sk-container-id-1 div.sk-toggleable {background-color: white;}#sk-container-id-1 label.sk-toggleable__label {cursor: pointer;display: block;width: 100%;margin-bottom: 0;padding: 0.3em;box-sizing: border-box;text-align: center;}#sk-container-id-1 label.sk-toggleable__label-arrow:before {content: \"▸\";float: left;margin-right: 0.25em;color: #696969;}#sk-container-id-1 label.sk-toggleable__label-arrow:hover:before {color: black;}#sk-container-id-1 div.sk-estimator:hover label.sk-toggleable__label-arrow:before {color: black;}#sk-container-id-1 div.sk-toggleable__content {max-height: 0;max-width: 0;overflow: hidden;text-align: left;background-color: #f0f8ff;}#sk-container-id-1 div.sk-toggleable__content pre {margin: 0.2em;color: black;border-radius: 0.25em;background-color: #f0f8ff;}#sk-container-id-1 input.sk-toggleable__control:checked~div.sk-toggleable__content {max-height: 200px;max-width: 100%;overflow: auto;}#sk-container-id-1 input.sk-toggleable__control:checked~label.sk-toggleable__label-arrow:before {content: \"▾\";}#sk-container-id-1 div.sk-estimator input.sk-toggleable__control:checked~label.sk-toggleable__label {background-color: #d4ebff;}#sk-container-id-1 div.sk-label input.sk-toggleable__control:checked~label.sk-toggleable__label {background-color: #d4ebff;}#sk-container-id-1 input.sk-hidden--visually {border: 0;clip: rect(1px 1px 1px 1px);clip: rect(1px, 1px, 1px, 1px);height: 1px;margin: -1px;overflow: hidden;padding: 0;position: absolute;width: 1px;}#sk-container-id-1 div.sk-estimator {font-family: monospace;background-color: #f0f8ff;border: 1px dotted black;border-radius: 0.25em;box-sizing: border-box;margin-bottom: 0.5em;}#sk-container-id-1 div.sk-estimator:hover {background-color: #d4ebff;}#sk-container-id-1 div.sk-parallel-item::after {content: \"\";width: 100%;border-bottom: 1px solid gray;flex-grow: 1;}#sk-container-id-1 div.sk-label:hover label.sk-toggleable__label {background-color: #d4ebff;}#sk-container-id-1 div.sk-serial::before {content: \"\";position: absolute;border-left: 1px solid gray;box-sizing: border-box;top: 0;bottom: 0;left: 50%;z-index: 0;}#sk-container-id-1 div.sk-serial {display: flex;flex-direction: column;align-items: center;background-color: white;padding-right: 0.2em;padding-left: 0.2em;position: relative;}#sk-container-id-1 div.sk-item {position: relative;z-index: 1;}#sk-container-id-1 div.sk-parallel {display: flex;align-items: stretch;justify-content: center;background-color: white;position: relative;}#sk-container-id-1 div.sk-item::before, #sk-container-id-1 div.sk-parallel-item::before {content: \"\";position: absolute;border-left: 1px solid gray;box-sizing: border-box;top: 0;bottom: 0;left: 50%;z-index: -1;}#sk-container-id-1 div.sk-parallel-item {display: flex;flex-direction: column;z-index: 1;position: relative;background-color: white;}#sk-container-id-1 div.sk-parallel-item:first-child::after {align-self: flex-end;width: 50%;}#sk-container-id-1 div.sk-parallel-item:last-child::after {align-self: flex-start;width: 50%;}#sk-container-id-1 div.sk-parallel-item:only-child::after {width: 0;}#sk-container-id-1 div.sk-dashed-wrapped {border: 1px dashed gray;margin: 0 0.4em 0.5em 0.4em;box-sizing: border-box;padding-bottom: 0.4em;background-color: white;}#sk-container-id-1 div.sk-label label {font-family: monospace;font-weight: bold;display: inline-block;line-height: 1.2em;}#sk-container-id-1 div.sk-label-container {text-align: center;}#sk-container-id-1 div.sk-container {/* jupyter's `normalize.less` sets `[hidden] { display: none; }` but bootstrap.min.css set `[hidden] { display: none !important; }` so we also need the `!important` here to be able to override the default hidden behavior on the sphinx rendered scikit-learn.org. See: https://github.com/scikit-learn/scikit-learn/issues/21755 */display: inline-block !important;position: relative;}#sk-container-id-1 div.sk-text-repr-fallback {display: none;}</style><div id=\"sk-container-id-1\" class=\"sk-top-container\"><div class=\"sk-text-repr-fallback\"><pre>RandomForestClassifier(random_state=42)</pre><b>In a Jupyter environment, please rerun this cell to show the HTML representation or trust the notebook. <br />On GitHub, the HTML representation is unable to render, please try loading this page with nbviewer.org.</b></div><div class=\"sk-container\" hidden><div class=\"sk-item\"><div class=\"sk-estimator sk-toggleable\"><input class=\"sk-toggleable__control sk-hidden--visually\" id=\"sk-estimator-id-1\" type=\"checkbox\" checked><label for=\"sk-estimator-id-1\" class=\"sk-toggleable__label sk-toggleable__label-arrow\">RandomForestClassifier</label><div class=\"sk-toggleable__content\"><pre>RandomForestClassifier(random_state=42)</pre></div></div></div></div></div>"
      ],
      "text/plain": [
       "RandomForestClassifier(random_state=42)"
      ]
     },
     "execution_count": 16,
     "metadata": {},
     "output_type": "execute_result"
    }
   ],
   "source": [
    "rf = RandomForestClassifier(random_state=42)\n",
    "rf.fit(X_train_reduced, y_train)"
   ]
  },
  {
   "cell_type": "code",
   "execution_count": 25,
   "id": "69195639-c511-4f73-b34c-1e05875de71b",
   "metadata": {},
   "outputs": [
    {
     "name": "stdout",
     "output_type": "stream",
     "text": [
      "src_bytes --> 0.13343620736767609\n",
      "flag_9 --> 0.08017254433219688\n",
      "count --> 0.07027203264113552\n",
      "diff_srv_rate --> 0.07000385388448689\n",
      "dst_host_same_srv_rate --> 0.06457463218030234\n",
      "same_srv_rate --> 0.06389703014118589\n",
      "dst_bytes --> 0.053936714010207075\n",
      "serror_rate --> 0.05064445353179795\n",
      "dst_host_srv_count --> 0.04585166859308468\n",
      "dst_host_diff_srv_rate --> 0.04490275043380693\n",
      "dst_host_same_src_port_rate --> 0.035069199542766646\n",
      "srv_count --> 0.031170407681331884\n",
      "logged_in --> 0.030111009174386933\n",
      "dst_host_count --> 0.026032483219522038\n",
      "dst_host_srv_diff_host_rate --> 0.021670615684399857\n",
      "protocol_type_0 --> 0.020025981277187053\n",
      "service_24 --> 0.018195762799112194\n",
      "service_14 --> 0.0161999279650188\n",
      "service_49 --> 0.013449578099592092\n",
      "protocol_type_1 --> 0.013127462305231088\n",
      "service_15 --> 0.012512152990947776\n",
      "srv_diff_host_rate --> 0.011720425677020673\n",
      "rerror_rate --> 0.010392077678827433\n",
      "wrong_fragment --> 0.007350397029863802\n",
      "hot --> 0.007207092920713829\n",
      "num_compromised --> 0.006739925534897091\n",
      "flag_4 --> 0.006568804087843863\n",
      "duration --> 0.005493202967838943\n",
      "protocol_type_2 --> 0.00504557891479915\n",
      "service_44 --> 0.004957130874548092\n",
      "service_12 --> 0.004069594517398284\n",
      "flag_1 --> 0.003763128276223095\n",
      "service_20 --> 0.002528261744068363\n",
      "service_54 --> 0.0010777449314134113\n",
      "flag_10 --> 0.0009216279150147712\n",
      "is_guest_login --> 0.0008811525386072794\n",
      "service_60 --> 0.0008605660131404839\n",
      "service_65 --> 0.000782607020758693\n",
      "service_19 --> 0.0007401761513373686\n",
      "flag_2 --> 0.0005911975770747129\n",
      "flag_6 --> 0.00042894943855646266\n",
      "service_18 --> 0.00031460502579606285\n",
      "num_failed_logins --> 0.00025286017176288656\n",
      "flag_3 --> 0.0002083177757682228\n",
      "num_file_creations --> 0.0001718635366934839\n",
      "service_0 --> 0.0001594526716337094\n",
      "service_4 --> 0.0001591308400661081\n",
      "root_shell --> 0.00013623864051996558\n",
      "service_2 --> 9.37386108031692e-05\n",
      "service_1 --> 8.44252303964218e-05\n",
      "service_28 --> 8.22502258301133e-05\n",
      "service_63 --> 6.808214090822891e-05\n",
      "num_access_files --> 6.221057700639555e-05\n",
      "service_11 --> 5.404915396694061e-05\n",
      "num_shells --> 5.0336244004932843e-05\n",
      "land --> 4.909336839792869e-05\n",
      "flag_7 --> 4.888832098364317e-05\n",
      "flag_0 --> 3.7480926631695556e-05\n",
      "service_45 --> 3.4981771711878925e-05\n",
      "service_56 --> 3.4699904030771576e-05\n",
      "service_43 --> 3.435278518580902e-05\n",
      "service_68 --> 3.2271157582716776e-05\n",
      "service_21 --> 2.801062572033881e-05\n",
      "service_66 --> 2.6053667763568378e-05\n",
      "service_5 --> 2.269207895001616e-05\n",
      "service_34 --> 2.1689093874996842e-05\n",
      "service_9 --> 2.1594212884654997e-05\n",
      "su_attempted --> 2.155310571877442e-05\n",
      "urgent --> 2.1404697481397383e-05\n",
      "flag_8 --> 2.1350780537664986e-05\n",
      "service_61 --> 1.9318541734284253e-05\n",
      "service_62 --> 1.6338168211219725e-05\n",
      "service_47 --> 1.6108662875394114e-05\n",
      "service_42 --> 1.3289536835374498e-05\n",
      "service_69 --> 1.2831960303730227e-05\n",
      "service_10 --> 1.222539582207972e-05\n",
      "service_6 --> 1.1127555082123644e-05\n",
      "service_32 --> 1.0161055905414273e-05\n",
      "service_46 --> 1.0125312036772223e-05\n",
      "service_41 --> 9.60546112262139e-06\n",
      "service_36 --> 9.592813721770904e-06\n",
      "service_30 --> 9.240665927933901e-06\n",
      "service_26 --> 9.02669016593879e-06\n",
      "service_8 --> 8.605347112194892e-06\n",
      "service_58 --> 7.713706861702269e-06\n",
      "service_64 --> 7.417487380893653e-06\n",
      "service_50 --> 7.198904927466362e-06\n",
      "service_33 --> 6.641268506799357e-06\n",
      "service_7 --> 6.4542148422787605e-06\n",
      "service_52 --> 6.023127550112363e-06\n",
      "service_29 --> 6.0052630275821875e-06\n",
      "service_57 --> 5.439890446005136e-06\n",
      "service_40 --> 5.212475809411351e-06\n",
      "service_13 --> 5.1156283672535e-06\n",
      "service_67 --> 4.769564847760045e-06\n",
      "service_39 --> 4.672015814171141e-06\n",
      "service_35 --> 4.638431366639132e-06\n",
      "service_59 --> 4.320010142031343e-06\n",
      "service_38 --> 4.174500273511146e-06\n",
      "service_51 --> 4.112526732747062e-06\n",
      "service_23 --> 3.8862484338615e-06\n",
      "service_53 --> 2.8581455617567746e-06\n",
      "service_55 --> 1.810762083408314e-06\n",
      "service_48 --> 1.3201254387830566e-06\n",
      "service_16 --> 6.515995900298178e-07\n",
      "service_17 --> 6.48681940508136e-07\n",
      "service_31 --> 5.565716459122034e-07\n",
      "service_27 --> 5.047183955264401e-07\n",
      "service_37 --> 4.5933632134882996e-07\n",
      "is_host_login --> 6.216279307838563e-09\n",
      "service_22 --> 4.402621618115798e-09\n",
      "service_25 --> 0.0\n",
      "num_outbound_cmds --> 0.0\n",
      "service_3 --> 0.0\n"
     ]
    }
   ],
   "source": [
    "importances = rf.feature_importances_\n",
    "feature_names = X_train_reduced.columns\n",
    "feature_importances = pd.DataFrame({'feature': feature_names, 'importance': importances})\n",
    "feature_importances = feature_importances.sort_values(by='importance', ascending=False)\n",
    "#print(feature_importances)\n",
    "\n",
    "for index, row in feature_importances.iterrows():\n",
    "    print(row['feature'], \"-->\", row['importance'])"
   ]
  },
  {
   "cell_type": "markdown",
   "id": "9dd59dcd-a540-427b-ab95-2b275df48835",
   "metadata": {},
   "source": [
    "**Cumulative importance to extract the number of important features as a whole**"
   ]
  },
  {
   "cell_type": "code",
   "execution_count": 26,
   "id": "3d212228-0a2f-49d4-b849-a6d01ced4666",
   "metadata": {},
   "outputs": [
    {
     "data": {
      "image/png": "[encoded data removed]",
      "text/plain": [
       "<Figure size 1000x600 with 1 Axes>"
      ]
     },
     "metadata": {},
     "output_type": "display_data"
    }
   ],
   "source": [
    "feature_importances['cumulative_importance'] = feature_importances['importance'].cumsum()\n",
    "plt.figure(figsize=(10, 6))\n",
    "plt.plot(feature_importances['cumulative_importance'])\n",
    "plt.xlabel('Number of Features')\n",
    "plt.ylabel('Cumulative Importance')\n",
    "plt.title('Cumulative Feature Importance')\n",
    "plt.grid()\n",
    "plt.show()"
   ]
  },
  {
   "cell_type": "code",
   "execution_count": 29,
   "id": "bc897ef3-ade0-4a0a-a221-bd2190ac7a5a",
   "metadata": {},
   "outputs": [
    {
     "name": "stdout",
     "output_type": "stream",
     "text": [
      "Number of features to retain for 95.0% cumulative importance: 24\n",
      "Selected features: ['src_bytes' 'flag_9' 'count' 'diff_srv_rate' 'dst_host_same_srv_rate'\n",
      " 'same_srv_rate' 'dst_bytes' 'serror_rate' 'dst_host_srv_count'\n",
      " 'dst_host_diff_srv_rate' 'dst_host_same_src_port_rate' 'srv_count'\n",
      " 'logged_in' 'dst_host_count' 'dst_host_srv_diff_host_rate'\n",
      " 'protocol_type_0' 'service_24' 'service_14' 'service_49'\n",
      " 'protocol_type_1' 'service_15' 'srv_diff_host_rate' 'rerror_rate'\n",
      " 'wrong_fragment']\n"
     ]
    }
   ],
   "source": [
    "threshold = 0.95  # Set your threshold\n",
    "cumulative_importance = feature_importances['cumulative_importance']\n",
    "num_features_to_retain = cumulative_importance[cumulative_importance <= threshold].shape[0]\n",
    "print(f\"Number of features to retain for {threshold*100}% cumulative importance: {num_features_to_retain}\")\n",
    "# Filter the top features\n",
    "selected_features = feature_importances.iloc[:num_features_to_retain]['feature'].values\n",
    "print(f\"Selected features: {selected_features}\")\n"
   ]
  },
  {
   "cell_type": "code",
   "execution_count": 34,
   "id": "bc9991f7-42a5-4956-ba9c-a7650f41c067",
   "metadata": {},
   "outputs": [],
   "source": [
    "X_train_selected = pd.DataFrame(X_train_reduced[selected_features], columns=selected_features)\n",
    "X_test_selected = pd.DataFrame(X_test_reduced[selected_features], columns=selected_features)"
   ]
  },
  {
   "cell_type": "code",
   "execution_count": 36,
   "id": "528e01e5-face-4e69-9a1c-ab54335daa62",
   "metadata": {},
   "outputs": [
    {
     "data": {
      "text/html": [
       "<div>\n",
       "<style scoped>\n",
       "    .dataframe tbody tr th:only-of-type {\n",
       "        vertical-align: middle;\n",
       "    }\n",
       "\n",
       "    .dataframe tbody tr th {\n",
       "        vertical-align: top;\n",
       "    }\n",
       "\n",
       "    .dataframe thead th {\n",
       "        text-align: right;\n",
       "    }\n",
       "</style>\n",
       "<table border=\"1\" class=\"dataframe\">\n",
       "  <thead>\n",
       "    <tr style=\"text-align: right;\">\n",
       "      <th></th>\n",
       "      <th>src_bytes</th>\n",
       "      <th>flag_9</th>\n",
       "      <th>count</th>\n",
       "      <th>diff_srv_rate</th>\n",
       "      <th>dst_host_same_srv_rate</th>\n",
       "      <th>same_srv_rate</th>\n",
       "      <th>dst_bytes</th>\n",
       "      <th>serror_rate</th>\n",
       "      <th>dst_host_srv_count</th>\n",
       "      <th>dst_host_diff_srv_rate</th>\n",
       "      <th>...</th>\n",
       "      <th>dst_host_srv_diff_host_rate</th>\n",
       "      <th>protocol_type_0</th>\n",
       "      <th>service_24</th>\n",
       "      <th>service_14</th>\n",
       "      <th>service_49</th>\n",
       "      <th>protocol_type_1</th>\n",
       "      <th>service_15</th>\n",
       "      <th>srv_diff_host_rate</th>\n",
       "      <th>rerror_rate</th>\n",
       "      <th>wrong_fragment</th>\n",
       "    </tr>\n",
       "  </thead>\n",
       "  <tbody>\n",
       "    <tr>\n",
       "      <th>0</th>\n",
       "      <td>-0.007679</td>\n",
       "      <td>0.825150</td>\n",
       "      <td>-0.717045</td>\n",
       "      <td>-0.349683</td>\n",
       "      <td>-0.782367</td>\n",
       "      <td>0.771283</td>\n",
       "      <td>-0.004919</td>\n",
       "      <td>-0.637209</td>\n",
       "      <td>-0.818890</td>\n",
       "      <td>-0.280282</td>\n",
       "      <td>...</td>\n",
       "      <td>-0.289103</td>\n",
       "      <td>-0.265429</td>\n",
       "      <td>-0.686328</td>\n",
       "      <td>-0.194371</td>\n",
       "      <td>-0.458130</td>\n",
       "      <td>0.476175</td>\n",
       "      <td>-0.158232</td>\n",
       "      <td>-0.374560</td>\n",
       "      <td>-0.374362</td>\n",
       "      <td>-0.089486</td>\n",
       "    </tr>\n",
       "    <tr>\n",
       "      <th>1</th>\n",
       "      <td>-0.007737</td>\n",
       "      <td>0.825150</td>\n",
       "      <td>-0.620982</td>\n",
       "      <td>0.482201</td>\n",
       "      <td>-1.161030</td>\n",
       "      <td>-1.321428</td>\n",
       "      <td>-0.004919</td>\n",
       "      <td>-0.637209</td>\n",
       "      <td>-1.035688</td>\n",
       "      <td>2.736852</td>\n",
       "      <td>...</td>\n",
       "      <td>-0.289103</td>\n",
       "      <td>-0.265429</td>\n",
       "      <td>-0.686328</td>\n",
       "      <td>-0.194371</td>\n",
       "      <td>-0.458130</td>\n",
       "      <td>-2.100067</td>\n",
       "      <td>-0.158232</td>\n",
       "      <td>-0.374560</td>\n",
       "      <td>-0.374362</td>\n",
       "      <td>-0.089486</td>\n",
       "    </tr>\n",
       "    <tr>\n",
       "      <th>2</th>\n",
       "      <td>-0.007762</td>\n",
       "      <td>-1.211901</td>\n",
       "      <td>0.339648</td>\n",
       "      <td>0.038529</td>\n",
       "      <td>-0.938287</td>\n",
       "      <td>-1.389669</td>\n",
       "      <td>-0.004919</td>\n",
       "      <td>1.602664</td>\n",
       "      <td>-0.809857</td>\n",
       "      <td>-0.174417</td>\n",
       "      <td>...</td>\n",
       "      <td>-0.289103</td>\n",
       "      <td>-0.265429</td>\n",
       "      <td>-0.686328</td>\n",
       "      <td>-0.194371</td>\n",
       "      <td>2.182788</td>\n",
       "      <td>0.476175</td>\n",
       "      <td>-0.158232</td>\n",
       "      <td>-0.374560</td>\n",
       "      <td>-0.374362</td>\n",
       "      <td>-0.089486</td>\n",
       "    </tr>\n",
       "    <tr>\n",
       "      <th>3</th>\n",
       "      <td>-0.007723</td>\n",
       "      <td>0.825150</td>\n",
       "      <td>-0.690846</td>\n",
       "      <td>-0.349683</td>\n",
       "      <td>1.066401</td>\n",
       "      <td>0.771283</td>\n",
       "      <td>-0.002891</td>\n",
       "      <td>-0.189235</td>\n",
       "      <td>1.258754</td>\n",
       "      <td>-0.439078</td>\n",
       "      <td>...</td>\n",
       "      <td>0.066252</td>\n",
       "      <td>-0.265429</td>\n",
       "      <td>1.457030</td>\n",
       "      <td>-0.194371</td>\n",
       "      <td>-0.458130</td>\n",
       "      <td>0.476175</td>\n",
       "      <td>-0.158232</td>\n",
       "      <td>-0.374560</td>\n",
       "      <td>-0.374362</td>\n",
       "      <td>-0.089486</td>\n",
       "    </tr>\n",
       "    <tr>\n",
       "      <th>4</th>\n",
       "      <td>-0.007728</td>\n",
       "      <td>0.825150</td>\n",
       "      <td>-0.472521</td>\n",
       "      <td>-0.349683</td>\n",
       "      <td>1.066401</td>\n",
       "      <td>0.771283</td>\n",
       "      <td>-0.004814</td>\n",
       "      <td>-0.637209</td>\n",
       "      <td>1.258754</td>\n",
       "      <td>-0.439078</td>\n",
       "      <td>...</td>\n",
       "      <td>-0.289103</td>\n",
       "      <td>-0.265429</td>\n",
       "      <td>1.457030</td>\n",
       "      <td>-0.194371</td>\n",
       "      <td>-0.458130</td>\n",
       "      <td>0.476175</td>\n",
       "      <td>-0.158232</td>\n",
       "      <td>-0.028179</td>\n",
       "      <td>-0.374362</td>\n",
       "      <td>-0.089486</td>\n",
       "    </tr>\n",
       "  </tbody>\n",
       "</table>\n",
       "<p>5 rows × 24 columns</p>\n",
       "</div>"
      ],
      "text/plain": [
       "   src_bytes    flag_9     count  diff_srv_rate  dst_host_same_srv_rate  \\\n",
       "0  -0.007679  0.825150 -0.717045      -0.349683               -0.782367   \n",
       "1  -0.007737  0.825150 -0.620982       0.482201               -1.161030   \n",
       "2  -0.007762 -1.211901  0.339648       0.038529               -0.938287   \n",
       "3  -0.007723  0.825150 -0.690846      -0.349683                1.066401   \n",
       "4  -0.007728  0.825150 -0.472521      -0.349683                1.066401   \n",
       "\n",
       "   same_srv_rate  dst_bytes  serror_rate  dst_host_srv_count  \\\n",
       "0       0.771283  -0.004919    -0.637209           -0.818890   \n",
       "1      -1.321428  -0.004919    -0.637209           -1.035688   \n",
       "2      -1.389669  -0.004919     1.602664           -0.809857   \n",
       "3       0.771283  -0.002891    -0.189235            1.258754   \n",
       "4       0.771283  -0.004814    -0.637209            1.258754   \n",
       "\n",
       "   dst_host_diff_srv_rate  ...  dst_host_srv_diff_host_rate  protocol_type_0  \\\n",
       "0               -0.280282  ...                    -0.289103        -0.265429   \n",
       "1                2.736852  ...                    -0.289103        -0.265429   \n",
       "2               -0.174417  ...                    -0.289103        -0.265429   \n",
       "3               -0.439078  ...                     0.066252        -0.265429   \n",
       "4               -0.439078  ...                    -0.289103        -0.265429   \n",
       "\n",
       "   service_24  service_14  service_49  protocol_type_1  service_15  \\\n",
       "0   -0.686328   -0.194371   -0.458130         0.476175   -0.158232   \n",
       "1   -0.686328   -0.194371   -0.458130        -2.100067   -0.158232   \n",
       "2   -0.686328   -0.194371    2.182788         0.476175   -0.158232   \n",
       "3    1.457030   -0.194371   -0.458130         0.476175   -0.158232   \n",
       "4    1.457030   -0.194371   -0.458130         0.476175   -0.158232   \n",
       "\n",
       "   srv_diff_host_rate  rerror_rate  wrong_fragment  \n",
       "0           -0.374560    -0.374362       -0.089486  \n",
       "1           -0.374560    -0.374362       -0.089486  \n",
       "2           -0.374560    -0.374362       -0.089486  \n",
       "3           -0.374560    -0.374362       -0.089486  \n",
       "4           -0.028179    -0.374362       -0.089486  \n",
       "\n",
       "[5 rows x 24 columns]"
      ]
     },
     "execution_count": 36,
     "metadata": {},
     "output_type": "execute_result"
    }
   ],
   "source": [
    "X_train_selected.head()\n"
   ]
  },
  {
   "cell_type": "code",
   "execution_count": 38,
   "id": "5bf3690d-5f78-48b9-b5fd-3310880463bb",
   "metadata": {},
   "outputs": [
    {
     "data": {
      "text/html": [
       "<div>\n",
       "<style scoped>\n",
       "    .dataframe tbody tr th:only-of-type {\n",
       "        vertical-align: middle;\n",
       "    }\n",
       "\n",
       "    .dataframe tbody tr th {\n",
       "        vertical-align: top;\n",
       "    }\n",
       "\n",
       "    .dataframe thead th {\n",
       "        text-align: right;\n",
       "    }\n",
       "</style>\n",
       "<table border=\"1\" class=\"dataframe\">\n",
       "  <thead>\n",
       "    <tr style=\"text-align: right;\">\n",
       "      <th></th>\n",
       "      <th>src_bytes</th>\n",
       "      <th>flag_9</th>\n",
       "      <th>count</th>\n",
       "      <th>diff_srv_rate</th>\n",
       "      <th>dst_host_same_srv_rate</th>\n",
       "      <th>same_srv_rate</th>\n",
       "      <th>dst_bytes</th>\n",
       "      <th>serror_rate</th>\n",
       "      <th>dst_host_srv_count</th>\n",
       "      <th>dst_host_diff_srv_rate</th>\n",
       "      <th>...</th>\n",
       "      <th>dst_host_srv_diff_host_rate</th>\n",
       "      <th>protocol_type_0</th>\n",
       "      <th>service_24</th>\n",
       "      <th>service_14</th>\n",
       "      <th>service_49</th>\n",
       "      <th>protocol_type_1</th>\n",
       "      <th>service_15</th>\n",
       "      <th>srv_diff_host_rate</th>\n",
       "      <th>rerror_rate</th>\n",
       "      <th>wrong_fragment</th>\n",
       "    </tr>\n",
       "  </thead>\n",
       "  <tbody>\n",
       "    <tr>\n",
       "      <th>0</th>\n",
       "      <td>-0.007348</td>\n",
       "      <td>0.825150</td>\n",
       "      <td>-0.725778</td>\n",
       "      <td>-0.349683</td>\n",
       "      <td>-0.916013</td>\n",
       "      <td>0.771283</td>\n",
       "      <td>-0.004801</td>\n",
       "      <td>-0.637209</td>\n",
       "      <td>-0.529826</td>\n",
       "      <td>-0.333214</td>\n",
       "      <td>...</td>\n",
       "      <td>0.066252</td>\n",
       "      <td>-0.265429</td>\n",
       "      <td>-0.686328</td>\n",
       "      <td>-0.194371</td>\n",
       "      <td>-0.45813</td>\n",
       "      <td>0.476175</td>\n",
       "      <td>-0.158232</td>\n",
       "      <td>-0.374560</td>\n",
       "      <td>-0.374362</td>\n",
       "      <td>-0.089486</td>\n",
       "    </tr>\n",
       "    <tr>\n",
       "      <th>1</th>\n",
       "      <td>-0.007755</td>\n",
       "      <td>0.825150</td>\n",
       "      <td>0.942225</td>\n",
       "      <td>-0.294224</td>\n",
       "      <td>0.620915</td>\n",
       "      <td>0.748536</td>\n",
       "      <td>-0.004885</td>\n",
       "      <td>-0.637209</td>\n",
       "      <td>0.355431</td>\n",
       "      <td>-0.333214</td>\n",
       "      <td>...</td>\n",
       "      <td>-0.289103</td>\n",
       "      <td>-0.265429</td>\n",
       "      <td>-0.686328</td>\n",
       "      <td>-0.194371</td>\n",
       "      <td>-0.45813</td>\n",
       "      <td>-2.100067</td>\n",
       "      <td>-0.158232</td>\n",
       "      <td>-0.336073</td>\n",
       "      <td>-0.374362</td>\n",
       "      <td>-0.089486</td>\n",
       "    </tr>\n",
       "    <tr>\n",
       "      <th>2</th>\n",
       "      <td>-0.007755</td>\n",
       "      <td>0.825150</td>\n",
       "      <td>0.322182</td>\n",
       "      <td>-0.349683</td>\n",
       "      <td>1.066401</td>\n",
       "      <td>0.771283</td>\n",
       "      <td>-0.004899</td>\n",
       "      <td>-0.637209</td>\n",
       "      <td>1.258754</td>\n",
       "      <td>-0.439078</td>\n",
       "      <td>...</td>\n",
       "      <td>-0.289103</td>\n",
       "      <td>-0.265429</td>\n",
       "      <td>-0.686328</td>\n",
       "      <td>-0.194371</td>\n",
       "      <td>-0.45813</td>\n",
       "      <td>-2.100067</td>\n",
       "      <td>-0.158232</td>\n",
       "      <td>-0.374560</td>\n",
       "      <td>-0.374362</td>\n",
       "      <td>-0.089486</td>\n",
       "    </tr>\n",
       "    <tr>\n",
       "      <th>3</th>\n",
       "      <td>-0.007738</td>\n",
       "      <td>0.825150</td>\n",
       "      <td>-0.717045</td>\n",
       "      <td>-0.349683</td>\n",
       "      <td>-1.138756</td>\n",
       "      <td>0.771283</td>\n",
       "      <td>-0.004893</td>\n",
       "      <td>-0.637209</td>\n",
       "      <td>-1.026654</td>\n",
       "      <td>4.007224</td>\n",
       "      <td>...</td>\n",
       "      <td>-0.289103</td>\n",
       "      <td>-0.265429</td>\n",
       "      <td>-0.686328</td>\n",
       "      <td>-0.194371</td>\n",
       "      <td>-0.45813</td>\n",
       "      <td>-2.100067</td>\n",
       "      <td>-0.158232</td>\n",
       "      <td>-0.374560</td>\n",
       "      <td>-0.374362</td>\n",
       "      <td>-0.089486</td>\n",
       "    </tr>\n",
       "    <tr>\n",
       "      <th>4</th>\n",
       "      <td>-0.007762</td>\n",
       "      <td>-1.211901</td>\n",
       "      <td>-0.717045</td>\n",
       "      <td>-0.349683</td>\n",
       "      <td>-1.138756</td>\n",
       "      <td>0.771283</td>\n",
       "      <td>-0.004919</td>\n",
       "      <td>-0.637209</td>\n",
       "      <td>-1.026654</td>\n",
       "      <td>3.160309</td>\n",
       "      <td>...</td>\n",
       "      <td>-0.289103</td>\n",
       "      <td>-0.265429</td>\n",
       "      <td>-0.686328</td>\n",
       "      <td>-0.194371</td>\n",
       "      <td>-0.45813</td>\n",
       "      <td>0.476175</td>\n",
       "      <td>-0.158232</td>\n",
       "      <td>-0.374560</td>\n",
       "      <td>2.746403</td>\n",
       "      <td>-0.089486</td>\n",
       "    </tr>\n",
       "  </tbody>\n",
       "</table>\n",
       "<p>5 rows × 24 columns</p>\n",
       "</div>"
      ],
      "text/plain": [
       "   src_bytes    flag_9     count  diff_srv_rate  dst_host_same_srv_rate  \\\n",
       "0  -0.007348  0.825150 -0.725778      -0.349683               -0.916013   \n",
       "1  -0.007755  0.825150  0.942225      -0.294224                0.620915   \n",
       "2  -0.007755  0.825150  0.322182      -0.349683                1.066401   \n",
       "3  -0.007738  0.825150 -0.717045      -0.349683               -1.138756   \n",
       "4  -0.007762 -1.211901 -0.717045      -0.349683               -1.138756   \n",
       "\n",
       "   same_srv_rate  dst_bytes  serror_rate  dst_host_srv_count  \\\n",
       "0       0.771283  -0.004801    -0.637209           -0.529826   \n",
       "1       0.748536  -0.004885    -0.637209            0.355431   \n",
       "2       0.771283  -0.004899    -0.637209            1.258754   \n",
       "3       0.771283  -0.004893    -0.637209           -1.026654   \n",
       "4       0.771283  -0.004919    -0.637209           -1.026654   \n",
       "\n",
       "   dst_host_diff_srv_rate  ...  dst_host_srv_diff_host_rate  protocol_type_0  \\\n",
       "0               -0.333214  ...                     0.066252        -0.265429   \n",
       "1               -0.333214  ...                    -0.289103        -0.265429   \n",
       "2               -0.439078  ...                    -0.289103        -0.265429   \n",
       "3                4.007224  ...                    -0.289103        -0.265429   \n",
       "4                3.160309  ...                    -0.289103        -0.265429   \n",
       "\n",
       "   service_24  service_14  service_49  protocol_type_1  service_15  \\\n",
       "0   -0.686328   -0.194371    -0.45813         0.476175   -0.158232   \n",
       "1   -0.686328   -0.194371    -0.45813        -2.100067   -0.158232   \n",
       "2   -0.686328   -0.194371    -0.45813        -2.100067   -0.158232   \n",
       "3   -0.686328   -0.194371    -0.45813        -2.100067   -0.158232   \n",
       "4   -0.686328   -0.194371    -0.45813         0.476175   -0.158232   \n",
       "\n",
       "   srv_diff_host_rate  rerror_rate  wrong_fragment  \n",
       "0           -0.374560    -0.374362       -0.089486  \n",
       "1           -0.336073    -0.374362       -0.089486  \n",
       "2           -0.374560    -0.374362       -0.089486  \n",
       "3           -0.374560    -0.374362       -0.089486  \n",
       "4           -0.374560     2.746403       -0.089486  \n",
       "\n",
       "[5 rows x 24 columns]"
      ]
     },
     "execution_count": 38,
     "metadata": {},
     "output_type": "execute_result"
    }
   ],
   "source": [
    "X_test_selected.head()"
   ]
  },
  {
   "cell_type": "markdown",
   "id": "952a090f-d708-4d62-b00b-a7fb39a99e05",
   "metadata": {},
   "source": [
    "# DSSTE Algorithm"
   ]
  },
  {
   "cell_type": "markdown",
   "id": "7192c584-db5e-469b-bfc9-8bb4ddb80155",
   "metadata": {},
   "source": [
    "**ENN - Identifying easy and difficult instances**"
   ]
  },
  {
   "cell_type": "code",
   "execution_count": 41,
   "id": "618a5754-e8aa-43eb-a56f-2a0c566aa50e",
   "metadata": {},
   "outputs": [
    {
     "name": "stdout",
     "output_type": "stream",
     "text": [
      "Easy set shape: (123876, 24)\n",
      "Difficult set shape: (2097, 24)\n"
     ]
    }
   ],
   "source": [
    "# Initialize ENN\n",
    "enn = EditedNearestNeighbours()\n",
    "\n",
    "# Fit and apply ENN\n",
    "X_easy, y_easy = enn.fit_resample(X_train_selected, y_train)\n",
    "\n",
    "#find difficult instances by set difference with easy examples\n",
    "mask_easy = enn.sample_indices_\n",
    "mask_difficult = np.setdiff1d(np.arange(len(X_train_selected)), mask_easy)\n",
    "\n",
    "X_difficult = X_train_selected.iloc[mask_difficult]\n",
    "y_difficult = y_train.iloc[mask_difficult]\n",
    "\n",
    "# Print shapes to verify\n",
    "print(\"Easy set shape:\", X_easy.shape)\n",
    "print(\"Difficult set shape:\", X_difficult.shape)\n"
   ]
  },
  {
   "cell_type": "markdown",
   "id": "722ab08b-2dbb-4112-bfda-cb76668e5c44",
   "metadata": {},
   "source": [
    "**KMeans - Compressing majority samples in difficult set**"
   ]
  },
  {
   "cell_type": "code",
   "execution_count": 43,
   "id": "e1799bfe-02d7-45d7-bfb6-69c2763c8453",
   "metadata": {},
   "outputs": [
    {
     "name": "stdout",
     "output_type": "stream",
     "text": [
      "Majority class difficult set shape: (1145, 24)\n"
     ]
    }
   ],
   "source": [
    "#identify majority class\n",
    "majority_class = y_difficult.value_counts().idxmax()\n",
    "\n",
    "X_majority_difficult = X_difficult[y_difficult == majority_class]\n",
    "y_majority_difficult = y_difficult[y_difficult == majority_class]\n",
    "print(\"Majority class difficult set shape:\", X_majority_difficult.shape)"
   ]
  },
  {
   "cell_type": "code",
   "execution_count": 44,
   "id": "d8f21812-f581-4a94-904f-0ffdecd5566c",
   "metadata": {},
   "outputs": [
    {
     "name": "stdout",
     "output_type": "stream",
     "text": [
      "Compressed majority set shape: (10, 24)\n"
     ]
    }
   ],
   "source": [
    "# Define the number of clusters (e.g., compress to 10 clusters)\n",
    "num_clusters = 10\n",
    "kmeans = KMeans(n_clusters=num_clusters, random_state=42)\n",
    "kmeans.fit(X_majority_difficult)\n",
    "\n",
    "X_compressed_majority = pd.DataFrame(kmeans.cluster_centers_, columns=X_majority_difficult.columns)\n",
    "y_compressed_majority = pd.Series([majority_class] * num_clusters, name='labels')\n",
    "\n",
    "print(\"Compressed majority set shape:\", X_compressed_majority.shape)"
   ]
  },
  {
   "cell_type": "code",
   "execution_count": 58,
   "id": "958ebc18-d462-4293-b401-a80b9b7f9303",
   "metadata": {},
   "outputs": [
    {
     "data": {
      "text/plain": [
       "labels\n",
       "0    10\n",
       "Name: count, dtype: int64"
      ]
     },
     "execution_count": 58,
     "metadata": {},
     "output_type": "execute_result"
    }
   ],
   "source": [
    "y_compressed_majority.value_counts()"
   ]
  },
  {
   "cell_type": "markdown",
   "id": "3d4e15f9-bfaa-4c4c-92ee-c9f7484966b5",
   "metadata": {},
   "source": [
    "**SMOTE - Increase the number of minority samples in difficult set**"
   ]
  },
  {
   "cell_type": "code",
   "execution_count": 61,
   "id": "51209cb6-a642-4d77-a2c8-a3fcd0296766",
   "metadata": {},
   "outputs": [
    {
     "data": {
      "text/plain": [
       "labels\n",
       "0    1145\n",
       "1     387\n",
       "3     381\n",
       "2     184\n",
       "Name: count, dtype: int64"
      ]
     },
     "execution_count": 61,
     "metadata": {},
     "output_type": "execute_result"
    }
   ],
   "source": [
    "y_difficult.value_counts()"
   ]
  },
  {
   "cell_type": "code",
   "execution_count": 60,
   "id": "82bb7d87-5a92-48c4-9b79-7c67a3c3a04a",
   "metadata": {},
   "outputs": [],
   "source": [
    "#removing instances of class 0\n",
    "X_minority_difficult = X_difficult[y_difficult != majority_class]\n",
    "y_minority_difficult = y_difficult[y_difficult != majority_class]"
   ]
  },
  {
   "cell_type": "code",
   "execution_count": 62,
   "id": "a517ef73-3458-4f21-bc05-7ba128b513c2",
   "metadata": {},
   "outputs": [
    {
     "data": {
      "text/plain": [
       "labels\n",
       "1    387\n",
       "3    381\n",
       "2    184\n",
       "Name: count, dtype: int64"
      ]
     },
     "execution_count": 62,
     "metadata": {},
     "output_type": "execute_result"
    }
   ],
   "source": [
    "y_minority_difficult.value_counts()"
   ]
  },
  {
   "cell_type": "code",
   "execution_count": 63,
   "id": "c6941486-5fc2-4c76-959f-8af3788ff9d4",
   "metadata": {},
   "outputs": [
    {
     "name": "stdout",
     "output_type": "stream",
     "text": [
      "Augmented minority set shape: (3435, 24)\n",
      "Class distribution after SMOTE:\n",
      "labels\n",
      "3    1145\n",
      "1    1145\n",
      "2    1145\n",
      "Name: count, dtype: int64\n"
     ]
    }
   ],
   "source": [
    "majority_count = y_difficult.value_counts()[0] #1145\n",
    "\n",
    "#\n",
    "smote = SMOTE(sampling_strategy={1: majority_count, 2: majority_count, 3: majority_count}, random_state=42)\n",
    "X_augmented_minority, y_augmented_minority = smote.fit_resample(X_minority_difficult, y_minority_difficult)\n",
    "\n",
    "\n",
    "print(\"Augmented minority set shape:\", X_augmented_minority.shape)\n",
    "print(\"Class distribution after SMOTE:\")\n",
    "print(y_augmented_minority.value_counts())"
   ]
  },
  {
   "cell_type": "markdown",
   "id": "68586ad6-d872-4afa-b096-9fcc1f2d9f1f",
   "metadata": {},
   "source": [
    "**Combining easy set, compressed majority and augmented minority**"
   ]
  },
  {
   "cell_type": "code",
   "execution_count": 64,
   "id": "65f3a2b0-6ced-4da5-a1b7-01d36800b4b6",
   "metadata": {},
   "outputs": [],
   "source": [
    "X_train_balanced = pd.concat([X_easy, X_compressed_majority, X_augmented_minority])\n",
    "y_train_balanced = pd.concat([pd.Series(y_easy, name='labels'), y_compressed_majority, pd.Series(y_augmented_minority, name='labels')])"
   ]
  },
  {
   "cell_type": "code",
   "execution_count": 71,
   "id": "171e4ca7-adc0-4114-90f7-97992354709c",
   "metadata": {},
   "outputs": [],
   "source": [
    "X_train_balanced, y_train_balanced = shuffle(X_train_balanced, y_train_balanced, random_state=42)"
   ]
  },
  {
   "cell_type": "code",
   "execution_count": 72,
   "id": "513c5160-e90d-4483-b68e-3f78db22c235",
   "metadata": {},
   "outputs": [
    {
     "name": "stdout",
     "output_type": "stream",
     "text": [
      "Balanced training set shape: (127321, 24)\n"
     ]
    }
   ],
   "source": [
    "print(\"Balanced training set shape:\", X_train_balanced.shape)"
   ]
  },
  {
   "cell_type": "code",
   "execution_count": 73,
   "id": "5ad00679-ea5d-46cd-8d66-68ea022ce5bb",
   "metadata": {},
   "outputs": [
    {
     "name": "stdout",
     "output_type": "stream",
     "text": [
      "No null values found in the balanced training set.\n",
      "Balanced training set shape: (127321, 24)\n"
     ]
    }
   ],
   "source": [
    "# Check for null values in X_train_balanced\n",
    "null_counts_X = X_train_balanced.isnull().sum()\n",
    "\n",
    "# Check for null values in y_train_balanced\n",
    "null_counts_y = y_train_balanced.isnull().sum()\n",
    "\n",
    "# Check if any null values exist\n",
    "if null_counts_X.any() or null_counts_y.any():\n",
    "    print(\"There are null values in the balanced training set.\")\n",
    "else:\n",
    "    print(\"No null values found in the balanced training set.\")\n",
    "\n",
    "# Print shape to verify\n",
    "print(\"Balanced training set shape:\", X_train_balanced.shape)\n"
   ]
  },
  {
   "cell_type": "markdown",
   "id": "54ad7aba-d862-4321-bdef-1b69aefe1344",
   "metadata": {},
   "source": [
    "**Saving the files**"
   ]
  },
  {
   "cell_type": "code",
   "execution_count": 76,
   "id": "1675b7da-7f94-4631-81ec-90e4a4955ccc",
   "metadata": {},
   "outputs": [],
   "source": [
    "train_file = r'C:\\Users\\sastr\\6th sem\\Internship\\NSL_KDD\\x_train_balanced.csv'\n",
    "test_file = r'C:\\Users\\sastr\\6th sem\\Internship\\NSL_KDD\\x_test_selected.csv'\n",
    "y_train_file = r'C:\\Users\\sastr\\6th sem\\Internship\\NSL_KDD\\y_train_balanced.csv'\n",
    "y_test_file = r'C:\\Users\\sastr\\6th sem\\Internship\\NSL_KDD\\y_test.csv'\n",
    "\n",
    "# Save X_train_balanced and X_test_selected\n",
    "X_train_balanced.to_csv(train_file, index=False)\n",
    "X_test_selected.to_csv(test_file, index=False)\n",
    "\n",
    "# Save y_train_balanced and y_test\n",
    "y_train_balanced.to_csv(y_train_file, index=False, header=True)  \n",
    "y_test.to_csv(y_test_file, index=False, header=True)  "
   ]
  },
  {
   "cell_type": "code",
   "execution_count": null,
   "id": "e9f4607f-5773-4f90-86a7-168b88735286",
   "metadata": {},
   "outputs": [],
   "source": []
  },
  {
   "cell_type": "code",
   "execution_count": null,
   "id": "fd6030b1-dfd8-498e-bb1c-5e883b2abba4",
   "metadata": {},
   "outputs": [],
   "source": []
  },
  {
   "cell_type": "code",
   "execution_count": null,
   "id": "78ea3cf3-4366-4445-baea-e6ac54e2be5f",
   "metadata": {},
   "outputs": [],
   "source": []
  },
  {
   "cell_type": "code",
   "execution_count": null,
   "id": "a8fdcbf5-7c8a-4bed-8ada-4443aa6bb2a1",
   "metadata": {},
   "outputs": [],
   "source": []
  },
  {
   "cell_type": "code",
   "execution_count": 69,
   "id": "473d43a0-987d-425c-ac2d-ce8c6bfdf7af",
   "metadata": {},
   "outputs": [
    {
     "data": {
      "text/plain": [
       "labels\n",
       "0    67343\n",
       "1    45927\n",
       "2    11656\n",
       "3      995\n",
       "4       52\n",
       "Name: count, dtype: int64"
      ]
     },
     "execution_count": 69,
     "metadata": {},
     "output_type": "execute_result"
    }
   ],
   "source": [
    "y_train.value_counts()"
   ]
  },
  {
   "cell_type": "code",
   "execution_count": 66,
   "id": "f381f460-8367-4b33-879f-844fc9965510",
   "metadata": {},
   "outputs": [
    {
     "data": {
      "text/plain": [
       "labels\n",
       "0    66208\n",
       "1    46685\n",
       "2    12617\n",
       "3     1759\n",
       "4       52\n",
       "Name: count, dtype: int64"
      ]
     },
     "execution_count": 66,
     "metadata": {},
     "output_type": "execute_result"
    }
   ],
   "source": [
    "y_train_balanced.value_counts()"
   ]
  },
  {
   "cell_type": "code",
   "execution_count": 57,
   "id": "669410c2-bd03-437e-85be-4b50da5ec081",
   "metadata": {},
   "outputs": [
    {
     "data": {
      "text/plain": [
       "labels\n",
       "0    66198\n",
       "1    45540\n",
       "2    11472\n",
       "3      614\n",
       "4       52\n",
       "Name: count, dtype: int64"
      ]
     },
     "execution_count": 57,
     "metadata": {},
     "output_type": "execute_result"
    }
   ],
   "source": [
    "y_easy.value_counts()"
   ]
  },
  {
   "cell_type": "code",
   "execution_count": 55,
   "id": "989fa941-23e9-417e-84d1-88f294b6f674",
   "metadata": {},
   "outputs": [
    {
     "data": {
      "text/plain": [
       "labels\n",
       "0    67343\n",
       "1    45927\n",
       "2    11656\n",
       "3      995\n",
       "4       52\n",
       "Name: count, dtype: int64"
      ]
     },
     "execution_count": 55,
     "metadata": {},
     "output_type": "execute_result"
    }
   ],
   "source": [
    "y_compressed_majority.value_counts()"
   ]
  },
  {
   "cell_type": "code",
   "execution_count": 67,
   "id": "c1d4cea9-e2b0-4b8f-b90f-5cbb5ed03ba9",
   "metadata": {},
   "outputs": [
    {
     "data": {
      "text/plain": [
       "labels\n",
       "3    1145\n",
       "1    1145\n",
       "2    1145\n",
       "Name: count, dtype: int64"
      ]
     },
     "execution_count": 67,
     "metadata": {},
     "output_type": "execute_result"
    }
   ],
   "source": [
    "y_augmented_minority.value_counts()"
   ]
  },
  {
   "cell_type": "code",
   "execution_count": 46,
   "id": "0dc249c2-abf3-4608-9c1a-504c93599ef3",
   "metadata": {},
   "outputs": [],
   "source": [
    "minority_classes = y_difficult.unique()"
   ]
  },
  {
   "cell_type": "code",
   "execution_count": 47,
   "id": "c2b884c3-7075-4966-ba20-05dd8388aca7",
   "metadata": {},
   "outputs": [],
   "source": [
    "X_augmented_minority = []\n",
    "y_augmented_minority = []"
   ]
  },
  {
   "cell_type": "code",
   "execution_count": 50,
   "id": "0de3c579-82dc-45b4-947f-cec2570686ff",
   "metadata": {},
   "outputs": [
    {
     "ename": "ValueError",
     "evalue": "The target 'y' needs to have more than 1 class. Got 1 class instead",
     "output_type": "error",
     "traceback": [
      "\u001b[1;31m---------------------------------------------------------------------------\u001b[0m",
      "\u001b[1;31mValueError\u001b[0m                                Traceback (most recent call last)",
      "Cell \u001b[1;32mIn[50], line 7\u001b[0m\n\u001b[0;32m      5\u001b[0m \u001b[38;5;66;03m# Apply SMOTE to the current minority class\u001b[39;00m\n\u001b[0;32m      6\u001b[0m smote \u001b[38;5;241m=\u001b[39m SMOTE(sampling_strategy\u001b[38;5;241m=\u001b[39m\u001b[38;5;124m'\u001b[39m\u001b[38;5;124mauto\u001b[39m\u001b[38;5;124m'\u001b[39m, random_state\u001b[38;5;241m=\u001b[39m\u001b[38;5;241m42\u001b[39m)\n\u001b[1;32m----> 7\u001b[0m X_augmented_minority_class, y_augmented_minority_class \u001b[38;5;241m=\u001b[39m smote\u001b[38;5;241m.\u001b[39mfit_resample(X_minority_difficult_class, y_minority_difficult_class)\n\u001b[0;32m      9\u001b[0m \u001b[38;5;66;03m# Append augmented samples to lists\u001b[39;00m\n\u001b[0;32m     10\u001b[0m X_augmented_minority\u001b[38;5;241m.\u001b[39mappend(X_augmented_minority_class)\n",
      "File \u001b[1;32m~\\anaconda3\\Lib\\site-packages\\imblearn\\base.py:208\u001b[0m, in \u001b[0;36mBaseSampler.fit_resample\u001b[1;34m(self, X, y)\u001b[0m\n\u001b[0;32m    187\u001b[0m \u001b[38;5;250m\u001b[39m\u001b[38;5;124;03m\"\"\"Resample the dataset.\u001b[39;00m\n\u001b[0;32m    188\u001b[0m \n\u001b[0;32m    189\u001b[0m \u001b[38;5;124;03mParameters\u001b[39;00m\n\u001b[1;32m   (...)\u001b[0m\n\u001b[0;32m    205\u001b[0m \u001b[38;5;124;03m    The corresponding label of `X_resampled`.\u001b[39;00m\n\u001b[0;32m    206\u001b[0m \u001b[38;5;124;03m\"\"\"\u001b[39;00m\n\u001b[0;32m    207\u001b[0m \u001b[38;5;28mself\u001b[39m\u001b[38;5;241m.\u001b[39m_validate_params()\n\u001b[1;32m--> 208\u001b[0m \u001b[38;5;28;01mreturn\u001b[39;00m \u001b[38;5;28msuper\u001b[39m()\u001b[38;5;241m.\u001b[39mfit_resample(X, y)\n",
      "File \u001b[1;32m~\\anaconda3\\Lib\\site-packages\\imblearn\\base.py:108\u001b[0m, in \u001b[0;36mSamplerMixin.fit_resample\u001b[1;34m(self, X, y)\u001b[0m\n\u001b[0;32m    105\u001b[0m arrays_transformer \u001b[38;5;241m=\u001b[39m ArraysTransformer(X, y)\n\u001b[0;32m    106\u001b[0m X, y, binarize_y \u001b[38;5;241m=\u001b[39m \u001b[38;5;28mself\u001b[39m\u001b[38;5;241m.\u001b[39m_check_X_y(X, y)\n\u001b[1;32m--> 108\u001b[0m \u001b[38;5;28mself\u001b[39m\u001b[38;5;241m.\u001b[39msampling_strategy_ \u001b[38;5;241m=\u001b[39m check_sampling_strategy(\n\u001b[0;32m    109\u001b[0m     \u001b[38;5;28mself\u001b[39m\u001b[38;5;241m.\u001b[39msampling_strategy, y, \u001b[38;5;28mself\u001b[39m\u001b[38;5;241m.\u001b[39m_sampling_type\n\u001b[0;32m    110\u001b[0m )\n\u001b[0;32m    112\u001b[0m output \u001b[38;5;241m=\u001b[39m \u001b[38;5;28mself\u001b[39m\u001b[38;5;241m.\u001b[39m_fit_resample(X, y)\n\u001b[0;32m    114\u001b[0m y_ \u001b[38;5;241m=\u001b[39m (\n\u001b[0;32m    115\u001b[0m     label_binarize(output[\u001b[38;5;241m1\u001b[39m], classes\u001b[38;5;241m=\u001b[39mnp\u001b[38;5;241m.\u001b[39munique(y)) \u001b[38;5;28;01mif\u001b[39;00m binarize_y \u001b[38;5;28;01melse\u001b[39;00m output[\u001b[38;5;241m1\u001b[39m]\n\u001b[0;32m    116\u001b[0m )\n",
      "File \u001b[1;32m~\\anaconda3\\Lib\\site-packages\\imblearn\\utils\\_validation.py:516\u001b[0m, in \u001b[0;36mcheck_sampling_strategy\u001b[1;34m(sampling_strategy, y, sampling_type, **kwargs)\u001b[0m\n\u001b[0;32m    510\u001b[0m     \u001b[38;5;28;01mraise\u001b[39;00m \u001b[38;5;167;01mValueError\u001b[39;00m(\n\u001b[0;32m    511\u001b[0m         \u001b[38;5;124mf\u001b[39m\u001b[38;5;124m\"\u001b[39m\u001b[38;5;124m'\u001b[39m\u001b[38;5;124msampling_type\u001b[39m\u001b[38;5;124m'\u001b[39m\u001b[38;5;124m should be one of \u001b[39m\u001b[38;5;132;01m{\u001b[39;00mSAMPLING_KIND\u001b[38;5;132;01m}\u001b[39;00m\u001b[38;5;124m. \u001b[39m\u001b[38;5;124m\"\u001b[39m\n\u001b[0;32m    512\u001b[0m         \u001b[38;5;124mf\u001b[39m\u001b[38;5;124m\"\u001b[39m\u001b[38;5;124mGot \u001b[39m\u001b[38;5;124m'\u001b[39m\u001b[38;5;132;01m{\u001b[39;00msampling_type\u001b[38;5;132;01m}\u001b[39;00m\u001b[38;5;124m instead.\u001b[39m\u001b[38;5;124m\"\u001b[39m\n\u001b[0;32m    513\u001b[0m     )\n\u001b[0;32m    515\u001b[0m \u001b[38;5;28;01mif\u001b[39;00m np\u001b[38;5;241m.\u001b[39munique(y)\u001b[38;5;241m.\u001b[39msize \u001b[38;5;241m<\u001b[39m\u001b[38;5;241m=\u001b[39m \u001b[38;5;241m1\u001b[39m:\n\u001b[1;32m--> 516\u001b[0m     \u001b[38;5;28;01mraise\u001b[39;00m \u001b[38;5;167;01mValueError\u001b[39;00m(\n\u001b[0;32m    517\u001b[0m         \u001b[38;5;124mf\u001b[39m\u001b[38;5;124m\"\u001b[39m\u001b[38;5;124mThe target \u001b[39m\u001b[38;5;124m'\u001b[39m\u001b[38;5;124my\u001b[39m\u001b[38;5;124m'\u001b[39m\u001b[38;5;124m needs to have more than 1 class. \u001b[39m\u001b[38;5;124m\"\u001b[39m\n\u001b[0;32m    518\u001b[0m         \u001b[38;5;124mf\u001b[39m\u001b[38;5;124m\"\u001b[39m\u001b[38;5;124mGot \u001b[39m\u001b[38;5;132;01m{\u001b[39;00mnp\u001b[38;5;241m.\u001b[39munique(y)\u001b[38;5;241m.\u001b[39msize\u001b[38;5;132;01m}\u001b[39;00m\u001b[38;5;124m class instead\u001b[39m\u001b[38;5;124m\"\u001b[39m\n\u001b[0;32m    519\u001b[0m     )\n\u001b[0;32m    521\u001b[0m \u001b[38;5;28;01mif\u001b[39;00m sampling_type \u001b[38;5;129;01min\u001b[39;00m (\u001b[38;5;124m\"\u001b[39m\u001b[38;5;124mensemble\u001b[39m\u001b[38;5;124m\"\u001b[39m, \u001b[38;5;124m\"\u001b[39m\u001b[38;5;124mbypass\u001b[39m\u001b[38;5;124m\"\u001b[39m):\n\u001b[0;32m    522\u001b[0m     \u001b[38;5;28;01mreturn\u001b[39;00m sampling_strategy\n",
      "\u001b[1;31mValueError\u001b[0m: The target 'y' needs to have more than 1 class. Got 1 class instead"
     ]
    }
   ],
   "source": [
    "for minority_class in minority_classes:\n",
    "    X_minority_difficult_class = X_difficult[y_difficult == minority_class]\n",
    "    y_minority_difficult_class = y_difficult[y_difficult == minority_class]\n",
    "\n",
    "    # Apply SMOTE to the current minority class\n",
    "    smote = SMOTE(sampling_strategy='auto', random_state=42)\n",
    "    X_augmented_minority_class, y_augmented_minority_class = smote.fit_resample(X_minority_difficult_class, y_minority_difficult_class)\n",
    "\n",
    "    # Append augmented samples to lists\n",
    "    X_augmented_minority.append(X_augmented_minority_class)\n",
    "    y_augmented_minority.append(y_augmented_minority_class)"
   ]
  },
  {
   "cell_type": "code",
   "execution_count": null,
   "id": "823fb8d5-e727-4686-92ae-7a82f75936ad",
   "metadata": {},
   "outputs": [],
   "source": []
  },
  {
   "cell_type": "code",
   "execution_count": null,
   "id": "a33344ee-bcfa-412c-9042-65ab2a3a45b8",
   "metadata": {},
   "outputs": [],
   "source": []
  },
  {
   "cell_type": "code",
   "execution_count": null,
   "id": "d30ec55e-f9da-4411-a0d4-3594fea38fae",
   "metadata": {},
   "outputs": [],
   "source": []
  },
  {
   "cell_type": "code",
   "execution_count": null,
   "id": "02a0643b-f90d-43dd-979d-8c798220544f",
   "metadata": {},
   "outputs": [],
   "source": []
  },
  {
   "cell_type": "code",
   "execution_count": null,
   "id": "2d1785dc-1d3f-4808-a579-e7eae4c2d64f",
   "metadata": {},
   "outputs": [],
   "source": []
  },
  {
   "cell_type": "code",
   "execution_count": 45,
   "id": "364824f5-033a-4f18-89a7-3153ca0e97a1",
   "metadata": {},
   "outputs": [
    {
     "name": "stdout",
     "output_type": "stream",
     "text": [
      "Minority class difficult set shape: (184, 24)\n"
     ]
    }
   ],
   "source": [
    "minority_class = y_difficult.value_counts().idxmin()\n",
    "\n",
    "# Filter minority class samples\n",
    "X_minority_difficult = X_difficult[y_difficult == minority_class]\n",
    "y_minority_difficult = y_difficult[y_difficult == minority_class]\n",
    "\n",
    "# Print shape to verify\n",
    "print(\"Minority class difficult set shape:\", X_minority_difficult.shape)"
   ]
  },
  {
   "cell_type": "code",
   "execution_count": 80,
   "id": "b4bb4f0a-6d7b-4b06-9ae7-e52e552d8071",
   "metadata": {},
   "outputs": [
    {
     "name": "stdout",
     "output_type": "stream",
     "text": [
      "0.11.0\n"
     ]
    }
   ],
   "source": [
    "import imblearn\n",
    "\n",
    "print(imblearn.__version__)"
   ]
  },
  {
   "cell_type": "code",
   "execution_count": null,
   "id": "0abaacaa-10e2-4d8b-b3d9-9bb5c46b4778",
   "metadata": {},
   "outputs": [],
   "source": []
  }
 ],
 "metadata": {
  "kernelspec": {
   "display_name": "Python 3 (ipykernel)",
   "language": "python",
   "name": "python3"
  },
  "language_info": {
   "codemirror_mode": {
    "name": "ipython",
    "version": 3
   },
   "file_extension": ".py",
   "mimetype": "text/x-python",
   "name": "python",
   "nbconvert_exporter": "python",
   "pygments_lexer": "ipython3",
   "version": "3.11.7"
  }
 },
 "nbformat": 4,
 "nbformat_minor": 5
}
